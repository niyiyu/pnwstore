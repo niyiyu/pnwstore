{
 "cells": [
  {
   "cell_type": "code",
   "execution_count": 1,
   "id": "83d84112",
   "metadata": {},
   "outputs": [],
   "source": [
    "import sys\n",
    "sys.path.append(\"/home/niyiyu/Research/pnwstore/\")\n",
    "\n",
    "from pnwstore.mseed import WaveformClient\n",
    "from pnwstore.utils import dummy_filename_mapper, index_folder"
   ]
  },
  {
   "cell_type": "code",
   "execution_count": 2,
   "id": "974b7b47",
   "metadata": {},
   "outputs": [],
   "source": [
    "data_path = \"/data/whd01/yiyu_data/pnwstore_test\"\n",
    "sqlite_path = \"/data/whd01/yiyu_data/test.sqlite\""
   ]
  },
  {
   "cell_type": "markdown",
   "id": "60c80440",
   "metadata": {},
   "source": [
    "## query the data from pnwstore1 and save to the local drive"
   ]
  },
  {
   "cell_type": "code",
   "execution_count": 3,
   "id": "1dd017f1",
   "metadata": {},
   "outputs": [],
   "source": [
    "client = WaveformClient()"
   ]
  },
  {
   "cell_type": "code",
   "execution_count": 5,
   "id": "b40ea525",
   "metadata": {},
   "outputs": [],
   "source": [
    "netsta = [\"UW.WPO\", \"CC.BRSP\"]    \n",
    "for i in netsta:\n",
    "    net, sta = i.split('.')\n",
    "    for year in range(2021, 2022):\n",
    "        for doy in range(1, 10):\n",
    "            client.get_waveforms(network = net, station = sta, channel = '?HZ', year = year, doy = doy,\n",
    "                filename =  f\"{data_path}/{net}/{year}/{str(doy).zfill(3)}/{sta}.{net}.{year}.{str(doy).zfill(3)}\")"
   ]
  },
  {
   "cell_type": "markdown",
   "id": "011ed9d5",
   "metadata": {},
   "source": [
    "## index folder"
   ]
  },
  {
   "cell_type": "code",
   "execution_count": 7,
   "id": "d55b9fd0",
   "metadata": {},
   "outputs": [
    {
     "name": "stderr",
     "output_type": "stream",
     "text": [
      "100%|██████████| 40/40 [00:03<00:00, 13.20it/s]\n"
     ]
    }
   ],
   "source": [
    "index_folder(data_path, sqlite_path)"
   ]
  },
  {
   "cell_type": "markdown",
   "id": "83a7d7ea",
   "metadata": {},
   "source": [
    "## then query the stream from local using a new client\n",
    "you need to specify:\n",
    "- new database file (sqlite) \n",
    "- mapping of filename (dummy_filename_mapper, which mapping filename to itself)."
   ]
  },
  {
   "cell_type": "code",
   "execution_count": 8,
   "id": "83bcce0c",
   "metadata": {},
   "outputs": [],
   "source": [
    "client = WaveformClient(sqlite = sqlite_path,\n",
    "                        filename_mapper=dummy_filename_mapper)"
   ]
  },
  {
   "cell_type": "code",
   "execution_count": 10,
   "id": "53290495",
   "metadata": {},
   "outputs": [
    {
     "data": {
      "text/plain": [
       "1 Trace(s) in Stream:\n",
       "UW.WPO..EHZ | 2021-01-08T00:00:00.000000Z - 2021-01-08T23:59:59.990000Z | 100.0 Hz, 8640000 samples"
      ]
     },
     "execution_count": 10,
     "metadata": {},
     "output_type": "execute_result"
    }
   ],
   "source": [
    "client.get_waveforms(network = \"UW\", station = \"WPO\", channel = \"*\", year = 2021, doy = 8)"
   ]
  },
  {
   "cell_type": "code",
   "execution_count": null,
   "id": "7d14fc1d",
   "metadata": {},
   "outputs": [],
   "source": []
  }
 ],
 "metadata": {
  "kernelspec": {
   "display_name": "seisml",
   "language": "python",
   "name": "seisml"
  },
  "language_info": {
   "codemirror_mode": {
    "name": "ipython",
    "version": 3
   },
   "file_extension": ".py",
   "mimetype": "text/x-python",
   "name": "python",
   "nbconvert_exporter": "python",
   "pygments_lexer": "ipython3",
   "version": "3.8.12"
  }
 },
 "nbformat": 4,
 "nbformat_minor": 5
}
