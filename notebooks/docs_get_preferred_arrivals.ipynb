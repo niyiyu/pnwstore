{
 "cells": [
  {
   "cell_type": "code",
   "execution_count": 2,
   "id": "02a89537",
   "metadata": {},
   "outputs": [],
   "source": [
    "import obspy\n",
    "import numpy as np"
   ]
  },
  {
   "cell_type": "markdown",
   "id": "f114a64f",
   "metadata": {},
   "source": [
    "## read a quakeml file downloaded from comcat\n",
    "The libcomcat was used to downloaded these quakeml file. \n",
    "\n",
    "Command used:\n",
    "```\n",
    "getproduct phase-data quakeml.xml --contributor uw -i uw61795191 --get-source uw \n",
    "```\n"
   ]
  },
  {
   "cell_type": "markdown",
   "id": "bdf24919",
   "metadata": {},
   "source": [
    "Note that there are 2 \"origins\" in the event class, **corresponding to an old, and updated origin** sent by PNSN."
   ]
  },
  {
   "cell_type": "code",
   "execution_count": 7,
   "id": "e79f9909",
   "metadata": {},
   "outputs": [
    {
     "data": {
      "text/plain": [
       "Event:\t2021-11-06T01:34:25.440000Z | +47.681, -121.856 | 1.12 Ml | manual\n",
       "\n",
       "\t            resource_id: ResourceIdentifier(id=\"quakeml:uw.anss.org/Event/UW/61795191\")\n",
       "\t             event_type: 'earthquake'\n",
       "\t          creation_info: CreationInfo(agency_id='UW', creation_time=UTCDateTime(2021, 11, 12, 6, 15, 7), version='3')\n",
       "\t    preferred_origin_id: ResourceIdentifier(id=\"quakeml:uw.anss.org/Origin/UW/3175603\")\n",
       "\t preferred_magnitude_id: ResourceIdentifier(id=\"quakeml:uw.anss.org/Netmag/UW/3127453\")\n",
       "\t                   ---------\n",
       "\t                  picks: 33 Elements\n",
       "\t             amplitudes: 8 Elements\n",
       "\t                origins: 2 Elements\n",
       "\t             magnitudes: 2 Elements\n",
       "\t     station_magnitudes: 8 Elements"
      ]
     },
     "execution_count": 7,
     "metadata": {},
     "output_type": "execute_result"
    }
   ],
   "source": [
    "event = obspy.read_events(\"/1-fnp/pnwstore1/p-wd11/PNWQuakeML/libcomcat/2021/uw61795191.xml\")[0]\n",
    "event"
   ]
  },
  {
   "cell_type": "markdown",
   "id": "a49485bb",
   "metadata": {},
   "source": [
    "Two origins have different source parameter and uncertainty since they use different arrival data. The first uses **20 arrivals**, while the second uses **17**. Some of these arrivals are shared, while some are not. "
   ]
  },
  {
   "cell_type": "code",
   "execution_count": 11,
   "id": "947b6108",
   "metadata": {},
   "outputs": [
    {
     "data": {
      "text/plain": [
       "[Origin\n",
       "\t        resource_id: ResourceIdentifier(id=\"quakeml:uw.anss.org/Origin/UW/3175133\")\n",
       "\t               time: UTCDateTime(2021, 11, 6, 1, 34, 25, 430000)\n",
       "\t          longitude: -121.858333333333\n",
       "\t           latitude: 47.6783333333333\n",
       "\t              depth: 19290.0 [uncertainty=590.0]\n",
       "\t         depth_type: 'from location'\n",
       "\t         time_fixed: False\n",
       "\t    epicenter_fixed: False\n",
       "\t          method_id: ResourceIdentifier(id=\"smi:uw.anss.org/origin/HYP2000\")\n",
       "\t            quality: OriginQuality(associated_phase_count=20, used_phase_count=16, associated_station_count=10, used_station_count=10, standard_error=0.09, azimuthal_gap=88.0, secondary_azimuthal_gap=447.0, minimum_distance=0.05057, maximum_distance=0.7988, median_distance=0.2264)\n",
       "\t        origin_type: 'hypocenter'\n",
       "\t origin_uncertainty: OriginUncertainty(horizontal_uncertainty=420.0, confidence_ellipsoid=ConfidenceEllipsoid(semi_major_axis_length=1608.0, semi_minor_axis_length=552.0, semi_intermediate_axis_length=1128.0, major_axis_plunge=62.0, major_axis_azimuth=88.0, major_axis_rotation=356.0), preferred_description='confidence ellipsoid', confidence_level=95.0)\n",
       "\t    evaluation_mode: 'manual'\n",
       "\t  evaluation_status: 'final'\n",
       "\t      creation_info: CreationInfo(agency_id='UW', creation_time=UTCDateTime(2021, 11, 6, 16, 9, 14))\n",
       "\t               ---------\n",
       "\t           arrivals: 20 Elements,\n",
       " Origin\n",
       "\t        resource_id: ResourceIdentifier(id=\"quakeml:uw.anss.org/Origin/UW/3175603\")\n",
       "\t               time: UTCDateTime(2021, 11, 6, 1, 34, 25, 440000)\n",
       "\t          longitude: -121.856333333333\n",
       "\t           latitude: 47.6811666666667\n",
       "\t              depth: 19310.0 [uncertainty=760.0]\n",
       "\t         depth_type: 'from location'\n",
       "\t         time_fixed: False\n",
       "\t    epicenter_fixed: False\n",
       "\t          method_id: ResourceIdentifier(id=\"smi:uw.anss.org/origin/HYP2000\")\n",
       "\t            quality: OriginQuality(associated_phase_count=17, used_phase_count=13, associated_station_count=10, used_station_count=8, standard_error=0.09, azimuthal_gap=87.0, secondary_azimuthal_gap=446.0, minimum_distance=0.05265, maximum_distance=0.7957, median_distance=0.227)\n",
       "\t        origin_type: 'hypocenter'\n",
       "\t origin_uncertainty: OriginUncertainty(horizontal_uncertainty=480.0, confidence_ellipsoid=ConfidenceEllipsoid(semi_major_axis_length=1920.0, semi_minor_axis_length=720.0, semi_intermediate_axis_length=1200.0, major_axis_plunge=71.0, major_axis_azimuth=87.0, major_axis_rotation=355.0), preferred_description='confidence ellipsoid', confidence_level=95.0)\n",
       "\t    evaluation_mode: 'manual'\n",
       "\t  evaluation_status: 'final'\n",
       "\t      creation_info: CreationInfo(agency_id='UW', creation_time=UTCDateTime(2021, 11, 12, 6, 14, 55))\n",
       "\t               ---------\n",
       "\t           arrivals: 17 Elements]"
      ]
     },
     "execution_count": 11,
     "metadata": {},
     "output_type": "execute_result"
    }
   ],
   "source": [
    "event.origins"
   ]
  },
  {
   "cell_type": "markdown",
   "id": "fb8519f4",
   "metadata": {},
   "source": [
    "So when we check out the event.picks, we see **33 elements**. This is because event.picks is only a pool of all picks that are used by all origins, so that some shared picks will not be stored multiple times."
   ]
  },
  {
   "cell_type": "code",
   "execution_count": 14,
   "id": "4377d1e2",
   "metadata": {},
   "outputs": [
    {
     "data": {
      "text/plain": [
       "Event:\t2021-11-06T01:34:25.440000Z | +47.681, -121.856 | 1.12 Ml | manual\n",
       "\n",
       "\t            resource_id: ResourceIdentifier(id=\"quakeml:uw.anss.org/Event/UW/61795191\")\n",
       "\t             event_type: 'earthquake'\n",
       "\t          creation_info: CreationInfo(agency_id='UW', creation_time=UTCDateTime(2021, 11, 12, 6, 15, 7), version='3')\n",
       "\t    preferred_origin_id: ResourceIdentifier(id=\"quakeml:uw.anss.org/Origin/UW/3175603\")\n",
       "\t preferred_magnitude_id: ResourceIdentifier(id=\"quakeml:uw.anss.org/Netmag/UW/3127453\")\n",
       "\t                   ---------\n",
       "\t                  picks: 33 Elements\n",
       "\t             amplitudes: 8 Elements\n",
       "\t                origins: 2 Elements\n",
       "\t             magnitudes: 2 Elements\n",
       "\t     station_magnitudes: 8 Elements"
      ]
     },
     "execution_count": 14,
     "metadata": {},
     "output_type": "execute_result"
    }
   ],
   "source": [
    "event"
   ]
  },
  {
   "cell_type": "markdown",
   "id": "a7ce2235",
   "metadata": {},
   "source": [
    "If we want to access the picks that are associated with the preferred origin, we should do this, which only return the preferred arrivals."
   ]
  },
  {
   "cell_type": "code",
   "execution_count": 24,
   "id": "d637cd53",
   "metadata": {
    "scrolled": false
   },
   "outputs": [
    {
     "name": "stdout",
     "output_type": "stream",
     "text": [
      "17\n"
     ]
    },
    {
     "data": {
      "text/plain": [
       "[Arrival\n",
       "\t     resource_id: ResourceIdentifier(id=\"quakeml:uw.anss.org/AssocArO/UW/15744983\")\n",
       "\t         pick_id: ResourceIdentifier(id=\"quakeml:uw.anss.org/Arrival/UW/15744983\")\n",
       "\t           phase: 'P'\n",
       "\t time_correction: 0.0\n",
       "\t         azimuth: 25.595865924795\n",
       "\t        distance: 0.1361\n",
       "\t   takeoff_angle: 139.0\n",
       "\t   time_residual: 0.03\n",
       "\t     time_weight: 0.15\n",
       "\t   creation_info: CreationInfo(agency_id='UW', creation_time=UTCDateTime(2021, 11, 12, 6, 15, 6)),\n",
       " Arrival\n",
       "\t     resource_id: ResourceIdentifier(id=\"quakeml:uw.anss.org/AssocArO/UW/15744998\")\n",
       "\t         pick_id: ResourceIdentifier(id=\"quakeml:uw.anss.org/Arrival/UW/15744998\")\n",
       "\t           phase: 'S'\n",
       "\t time_correction: 0.18\n",
       "\t         azimuth: 183.376929548611\n",
       "\t        distance: 0.1875\n",
       "\t   takeoff_angle: 129.0\n",
       "\t   time_residual: 0.06\n",
       "\t     time_weight: 0.11\n",
       "\t   creation_info: CreationInfo(agency_id='UW', creation_time=UTCDateTime(2021, 11, 12, 6, 15, 6)),\n",
       " Arrival\n",
       "\t     resource_id: ResourceIdentifier(id=\"quakeml:uw.anss.org/AssocArO/UW/15745003\")\n",
       "\t         pick_id: ResourceIdentifier(id=\"quakeml:uw.anss.org/Arrival/UW/15745003\")\n",
       "\t           phase: 'P'\n",
       "\t time_correction: 0.16\n",
       "\t         azimuth: 322.621080176889\n",
       "\t        distance: 0.1955\n",
       "\t   takeoff_angle: 128.0\n",
       "\t   time_residual: -0.06\n",
       "\t     time_weight: 0.11\n",
       "\t   creation_info: CreationInfo(agency_id='UW', creation_time=UTCDateTime(2021, 11, 12, 6, 15, 6)),\n",
       " Arrival\n",
       "\t     resource_id: ResourceIdentifier(id=\"quakeml:uw.anss.org/AssocArO/UW/15745008\")\n",
       "\t         pick_id: ResourceIdentifier(id=\"quakeml:uw.anss.org/Arrival/UW/15745008\")\n",
       "\t           phase: 'S'\n",
       "\t time_correction: 0.28\n",
       "\t         azimuth: 322.621080176889\n",
       "\t        distance: 0.1955\n",
       "\t   takeoff_angle: 128.0\n",
       "\t   time_residual: -0.1\n",
       "\t     time_weight: 0.11\n",
       "\t   creation_info: CreationInfo(agency_id='UW', creation_time=UTCDateTime(2021, 11, 12, 6, 15, 6)),\n",
       " Arrival\n",
       "\t     resource_id: ResourceIdentifier(id=\"quakeml:uw.anss.org/AssocArO/UW/15751948\")\n",
       "\t         pick_id: ResourceIdentifier(id=\"quakeml:uw.anss.org/Arrival/UW/15751948\")\n",
       "\t           phase: 'P'\n",
       "\t time_correction: 0.0\n",
       "\t         azimuth: 252.769756606195\n",
       "\t        distance: 0.05265\n",
       "\t   takeoff_angle: 162.0\n",
       "\t   time_residual: 0.2\n",
       "\t     time_weight: 0.11\n",
       "\t   creation_info: CreationInfo(agency_id='UW', creation_time=UTCDateTime(2021, 11, 12, 6, 15, 6)),\n",
       " Arrival\n",
       "\t     resource_id: ResourceIdentifier(id=\"quakeml:uw.anss.org/AssocArO/UW/15751953\")\n",
       "\t         pick_id: ResourceIdentifier(id=\"quakeml:uw.anss.org/Arrival/UW/15751953\")\n",
       "\t           phase: 'S'\n",
       "\t time_correction: 0.0\n",
       "\t         azimuth: 252.769756606195\n",
       "\t        distance: 0.05265\n",
       "\t   takeoff_angle: 162.0\n",
       "\t   time_residual: 0.85\n",
       "\t     time_weight: 0.0\n",
       "\t   creation_info: CreationInfo(agency_id='UW', creation_time=UTCDateTime(2021, 11, 12, 6, 15, 6)),\n",
       " Arrival\n",
       "\t     resource_id: ResourceIdentifier(id=\"quakeml:uw.anss.org/AssocArO/UW/15751958\")\n",
       "\t         pick_id: ResourceIdentifier(id=\"quakeml:uw.anss.org/Arrival/UW/15751958\")\n",
       "\t           phase: 'P'\n",
       "\t time_correction: 0.0\n",
       "\t         azimuth: 83.9732813648502\n",
       "\t        distance: 0.1138\n",
       "\t   takeoff_angle: 145.0\n",
       "\t   time_residual: -0.02\n",
       "\t     time_weight: 0.11\n",
       "\t   creation_info: CreationInfo(agency_id='UW', creation_time=UTCDateTime(2021, 11, 12, 6, 15, 6)),\n",
       " Arrival\n",
       "\t     resource_id: ResourceIdentifier(id=\"quakeml:uw.anss.org/AssocArO/UW/15751963\")\n",
       "\t         pick_id: ResourceIdentifier(id=\"quakeml:uw.anss.org/Arrival/UW/15751963\")\n",
       "\t           phase: 'S'\n",
       "\t time_correction: 0.0\n",
       "\t         azimuth: 83.9732813648502\n",
       "\t        distance: 0.1138\n",
       "\t   takeoff_angle: 145.0\n",
       "\t   time_residual: -0.02\n",
       "\t     time_weight: 0.11\n",
       "\t   creation_info: CreationInfo(agency_id='UW', creation_time=UTCDateTime(2021, 11, 12, 6, 15, 6)),\n",
       " Arrival\n",
       "\t     resource_id: ResourceIdentifier(id=\"quakeml:uw.anss.org/AssocArO/UW/15751968\")\n",
       "\t         pick_id: ResourceIdentifier(id=\"quakeml:uw.anss.org/Arrival/UW/15751968\")\n",
       "\t           phase: 'S'\n",
       "\t time_correction: 0.0\n",
       "\t         azimuth: 25.595865924795\n",
       "\t        distance: 0.1361\n",
       "\t   takeoff_angle: 139.0\n",
       "\t   time_residual: -0.07\n",
       "\t     time_weight: 0.08\n",
       "\t   creation_info: CreationInfo(agency_id='UW', creation_time=UTCDateTime(2021, 11, 12, 6, 15, 6)),\n",
       " Arrival\n",
       "\t     resource_id: ResourceIdentifier(id=\"quakeml:uw.anss.org/AssocArO/UW/15751973\")\n",
       "\t         pick_id: ResourceIdentifier(id=\"quakeml:uw.anss.org/Arrival/UW/15751973\")\n",
       "\t           phase: 'P'\n",
       "\t time_correction: 0.1\n",
       "\t         azimuth: 183.376929548611\n",
       "\t        distance: 0.1875\n",
       "\t   takeoff_angle: 129.0\n",
       "\t   time_residual: -0.09\n",
       "\t     time_weight: 0.11\n",
       "\t   creation_info: CreationInfo(agency_id='UW', creation_time=UTCDateTime(2021, 11, 12, 6, 15, 6)),\n",
       " Arrival\n",
       "\t     resource_id: ResourceIdentifier(id=\"quakeml:uw.anss.org/AssocArO/UW/15751978\")\n",
       "\t         pick_id: ResourceIdentifier(id=\"quakeml:uw.anss.org/Arrival/UW/15751978\")\n",
       "\t           phase: 'P'\n",
       "\t time_correction: 0.0\n",
       "\t         azimuth: 171.899842678813\n",
       "\t        distance: 0.2584\n",
       "\t   takeoff_angle: 119.0\n",
       "\t   time_residual: -0.1\n",
       "\t     time_weight: 0.11\n",
       "\t   creation_info: CreationInfo(agency_id='UW', creation_time=UTCDateTime(2021, 11, 12, 6, 15, 6)),\n",
       " Arrival\n",
       "\t     resource_id: ResourceIdentifier(id=\"quakeml:uw.anss.org/AssocArO/UW/15751983\")\n",
       "\t         pick_id: ResourceIdentifier(id=\"quakeml:uw.anss.org/Arrival/UW/15751983\")\n",
       "\t           phase: 'P'\n",
       "\t time_correction: -0.06\n",
       "\t         azimuth: 354.731655830402\n",
       "\t        distance: 0.5167\n",
       "\t   takeoff_angle: 102.0\n",
       "\t   time_residual: 0.19\n",
       "\t     time_weight: 0.07\n",
       "\t   creation_info: CreationInfo(agency_id='UW', creation_time=UTCDateTime(2021, 11, 12, 6, 15, 6)),\n",
       " Arrival\n",
       "\t     resource_id: ResourceIdentifier(id=\"quakeml:uw.anss.org/AssocArO/UW/15751988\")\n",
       "\t         pick_id: ResourceIdentifier(id=\"quakeml:uw.anss.org/Arrival/UW/15751988\")\n",
       "\t           phase: 'S'\n",
       "\t time_correction: -0.11\n",
       "\t         azimuth: 354.731655830402\n",
       "\t        distance: 0.5167\n",
       "\t   takeoff_angle: 102.0\n",
       "\t   time_residual: 0.06\n",
       "\t     time_weight: 0.07\n",
       "\t   creation_info: CreationInfo(agency_id='UW', creation_time=UTCDateTime(2021, 11, 12, 6, 15, 6)),\n",
       " Arrival\n",
       "\t     resource_id: ResourceIdentifier(id=\"quakeml:uw.anss.org/AssocArO/UW/15751993\")\n",
       "\t         pick_id: ResourceIdentifier(id=\"quakeml:uw.anss.org/Arrival/UW/15751993\")\n",
       "\t           phase: 'P'\n",
       "\t time_correction: 0.08\n",
       "\t         azimuth: 170.308698384159\n",
       "\t        distance: 0.7503\n",
       "\t   takeoff_angle: 78.0\n",
       "\t   time_residual: -0.16\n",
       "\t     time_weight: 0.03\n",
       "\t   creation_info: CreationInfo(agency_id='UW', creation_time=UTCDateTime(2021, 11, 12, 6, 15, 6)),\n",
       " Arrival\n",
       "\t     resource_id: ResourceIdentifier(id=\"quakeml:uw.anss.org/AssocArO/UW/15751998\")\n",
       "\t         pick_id: ResourceIdentifier(id=\"quakeml:uw.anss.org/Arrival/UW/15751998\")\n",
       "\t           phase: 'S'\n",
       "\t time_correction: 0.0\n",
       "\t         azimuth: 177.946664577123\n",
       "\t        distance: 0.7823\n",
       "\t   takeoff_angle: 78.0\n",
       "\t   time_residual: -1.42\n",
       "\t     time_weight: 0.0\n",
       "\t   creation_info: CreationInfo(agency_id='UW', creation_time=UTCDateTime(2021, 11, 12, 6, 15, 6)),\n",
       " Arrival\n",
       "\t     resource_id: ResourceIdentifier(id=\"quakeml:uw.anss.org/AssocArO/UW/15752003\")\n",
       "\t         pick_id: ResourceIdentifier(id=\"quakeml:uw.anss.org/Arrival/UW/15752003\")\n",
       "\t           phase: 'P'\n",
       "\t time_correction: 0.0\n",
       "\t         azimuth: 15.9763978893449\n",
       "\t        distance: 0.7957\n",
       "\t   takeoff_angle: 78.0\n",
       "\t   time_residual: 0.41\n",
       "\t     time_weight: 0.0\n",
       "\t   creation_info: CreationInfo(agency_id='UW', creation_time=UTCDateTime(2021, 11, 12, 6, 15, 6)),\n",
       " Arrival\n",
       "\t     resource_id: ResourceIdentifier(id=\"quakeml:uw.anss.org/AssocArO/UW/15752008\")\n",
       "\t         pick_id: ResourceIdentifier(id=\"quakeml:uw.anss.org/Arrival/UW/15752008\")\n",
       "\t           phase: 'S'\n",
       "\t time_correction: 0.0\n",
       "\t         azimuth: 15.9763978893449\n",
       "\t        distance: 0.7957\n",
       "\t   takeoff_angle: 78.0\n",
       "\t   time_residual: 0.32\n",
       "\t     time_weight: 0.0\n",
       "\t   creation_info: CreationInfo(agency_id='UW', creation_time=UTCDateTime(2021, 11, 12, 6, 15, 6))]"
      ]
     },
     "execution_count": 24,
     "metadata": {},
     "output_type": "execute_result"
    }
   ],
   "source": [
    "print(len(event.preferred_origin().arrivals))\n",
    "event.preferred_origin().arrivals"
   ]
  },
  {
   "cell_type": "code",
   "execution_count": null,
   "id": "6701629b",
   "metadata": {},
   "outputs": [],
   "source": []
  }
 ],
 "metadata": {
  "kernelspec": {
   "display_name": "seisml",
   "language": "python",
   "name": "seisml"
  },
  "language_info": {
   "codemirror_mode": {
    "name": "ipython",
    "version": 3
   },
   "file_extension": ".py",
   "mimetype": "text/x-python",
   "name": "python",
   "nbconvert_exporter": "python",
   "pygments_lexer": "ipython3",
   "version": "3.8.12"
  }
 },
 "nbformat": 4,
 "nbformat_minor": 5
}
